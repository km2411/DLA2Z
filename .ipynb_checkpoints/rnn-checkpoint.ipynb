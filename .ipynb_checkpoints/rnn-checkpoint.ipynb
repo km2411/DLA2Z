{
 "cells": [
  {
   "cell_type": "markdown",
   "metadata": {},
   "source": [
    "### To Dos :\n",
    "<ul><li> Build and Implement</li>\n",
    "    <li> Fit, test, validate</li>\n",
    "    <li> Doing some EDA can also help</li>\n",
    "    <li> Improve the model, add more data <\\li>\n",
    "    <li> Add more indicators, anything that correlates to goodle stock prices, alphabet, or number of google searches, or any other trend, interesting would be to see how different trends can affect the google stock prices.<\\li>\n",
    "        <li> Election periods etc, court cases, do some EDA<\\li>\n",
    "</ul>"
   ]
  },
  {
   "cell_type": "markdown",
   "metadata": {},
   "source": [
    "### Part 1 - Data Preprocessing"
   ]
  },
  {
   "cell_type": "markdown",
   "metadata": {},
   "source": [
    "Implement LSTM to predict the Google stock prices, preditc the trend. \n",
    "LSTMs are supposed to work better than the traditional ARIMA models, let's try and see what we get. "
   ]
  },
  {
   "cell_type": "code",
   "execution_count": 1,
   "metadata": {},
   "outputs": [],
   "source": [
    "# Importing the libraries\n",
    "import numpy as np\n",
    "import matplotlib.pyplot as plt\n",
    "import pandas as pd"
   ]
  },
  {
   "cell_type": "code",
   "execution_count": 2,
   "metadata": {},
   "outputs": [],
   "source": [
    "# Importing the training set\n",
    "dataset_train = pd.read_csv('Google_Stock_Price_Train.csv')\n",
    "training_set = dataset_train.iloc[:, 1:2].values"
   ]
  },
  {
   "cell_type": "markdown",
   "metadata": {},
   "source": [
    " For feature scaling, we can either do the standardisation or normalization, choice depends on the type of activation function we are using. With sigmoid, mix-max normalization works better."
   ]
  },
  {
   "cell_type": "code",
   "execution_count": 3,
   "metadata": {},
   "outputs": [],
   "source": [
    "from sklearn.preprocessing import MinMaxScaler\n",
    "sc = MinMaxScaler(feature_range = (0, 1))\n",
    "training_set_scaled = sc.fit_transform(training_set)"
   ]
  },
  {
   "cell_type": "markdown",
   "metadata": {},
   "source": [
    "Now for the RNN it is important to define the data structure, what all information is gonna be in the memory based on which it will predict the new value."
   ]
  },
  {
   "cell_type": "code",
   "execution_count": 4,
   "metadata": {},
   "outputs": [],
   "source": [
    "# Creating a data structure with 60 timesteps and 1 output\n",
    "X_train = []\n",
    "y_train = []\n",
    "for i in range(120, 1258):\n",
    "    X_train.append(training_set_scaled[i-120:i, 0])\n",
    "    y_train.append(training_set_scaled[i, 0])\n",
    "X_train, y_train = np.array(X_train), np.array(y_train)"
   ]
  },
  {
   "cell_type": "markdown",
   "metadata": {},
   "source": [
    "Important to see what new dimension we can add, refer to Keras doc.\n",
    "It can help predict the output better as there would be some correlation. ex- the case of Apple and Samsung, for predicting Apple's prices, Samsung's price can have an impact as they get their stuff from Samsung.\n",
    "Adding more indicators can be easily done with reshape."
   ]
  },
  {
   "cell_type": "code",
   "execution_count": 5,
   "metadata": {},
   "outputs": [],
   "source": [
    "# Reshaping\n",
    "X_train = np.reshape(X_train, (X_train.shape[0], X_train.shape[1], 1))    "
   ]
  },
  {
   "cell_type": "markdown",
   "metadata": {},
   "source": [
    "### Part 2 - Building the *RNN*"
   ]
  },
  {
   "cell_type": "code",
   "execution_count": 6,
   "metadata": {},
   "outputs": [
    {
     "name": "stderr",
     "output_type": "stream",
     "text": [
      "Using TensorFlow backend.\n"
     ]
    }
   ],
   "source": [
    "# Importing the Keras libraries and packages\n",
    "from keras.models import Sequential\n",
    "from keras.layers import Dense\n",
    "from keras.layers import LSTM\n",
    "from keras.layers import Dropout"
   ]
  },
  {
   "cell_type": "markdown",
   "metadata": {},
   "source": [
    "We use sequential instead of graph with Keras, it is better, and for graph torch is better."
   ]
  },
  {
   "cell_type": "code",
   "execution_count": 7,
   "metadata": {},
   "outputs": [],
   "source": [
    "#remember regressor vs. classifier (continous values vs. classes)\n",
    "\n",
    "# Initialising the RNN\n",
    "regressor = Sequential()"
   ]
  },
  {
   "cell_type": "markdown",
   "metadata": {},
   "source": [
    "Choosing the number of memory units is crucial - large number creates a model with high dimensionality, which is important to caputre the trends in a sotck prices kind data.\n",
    "return_sequences is true for a stacked LSTM, for the last one we don't need to set it, it's false by default."
   ]
  },
  {
   "cell_type": "code",
   "execution_count": 8,
   "metadata": {},
   "outputs": [],
   "source": [
    "# Adding the first LSTM layer and some Dropout regularisation\n",
    "regressor.add(LSTM(units = 64, return_sequences = True, input_shape = (X_train.shape[1], 1)))\n",
    "regressor.add(Dropout(0.2))"
   ]
  },
  {
   "cell_type": "code",
   "execution_count": 9,
   "metadata": {},
   "outputs": [],
   "source": [
    "# Adding a second LSTM layer and some Dropout regularisation\n",
    "regressor.add(LSTM(units = 64, return_sequences = True))\n",
    "regressor.add(Dropout(0.2))"
   ]
  },
  {
   "cell_type": "code",
   "execution_count": 10,
   "metadata": {},
   "outputs": [],
   "source": [
    "# Adding a third LSTM layer and some Dropout regularisation\n",
    "regressor.add(LSTM(units = 64, return_sequences = True))\n",
    "regressor.add(Dropout(0.2))"
   ]
  },
  {
   "cell_type": "code",
   "execution_count": 11,
   "metadata": {},
   "outputs": [],
   "source": [
    "# Adding a fourth LSTM layer and some Dropout regularisation\n",
    "regressor.add(LSTM(units = 64))\n",
    "regressor.add(Dropout(0.2))"
   ]
  },
  {
   "cell_type": "code",
   "execution_count": 12,
   "metadata": {},
   "outputs": [],
   "source": [
    "# Adding the output layer\n",
    "regressor.add(Dense(units = 1))"
   ]
  },
  {
   "cell_type": "code",
   "execution_count": 13,
   "metadata": {},
   "outputs": [],
   "source": [
    "# Compiling the RNN\n",
    "regressor.compile(optimizer = 'adam', loss = 'mean_squared_error')"
   ]
  },
  {
   "cell_type": "code",
   "execution_count": 14,
   "metadata": {
    "scrolled": true
   },
   "outputs": [
    {
     "name": "stdout",
     "output_type": "stream",
     "text": [
      "Epoch 1/100\n",
      "1138/1138 [==============================] - 13s 12ms/step - loss: 0.0518\n",
      "Epoch 2/100\n",
      "1138/1138 [==============================] - 11s 10ms/step - loss: 0.0059\n",
      "Epoch 3/100\n",
      "1138/1138 [==============================] - 11s 9ms/step - loss: 0.0053\n",
      "Epoch 4/100\n",
      "1138/1138 [==============================] - 10s 9ms/step - loss: 0.0051\n",
      "Epoch 5/100\n",
      "1138/1138 [==============================] - 10s 9ms/step - loss: 0.0044\n",
      "Epoch 6/100\n",
      "1138/1138 [==============================] - 12s 10ms/step - loss: 0.0056\n",
      "Epoch 7/100\n",
      "1138/1138 [==============================] - 10s 9ms/step - loss: 0.0060\n",
      "Epoch 8/100\n",
      "1138/1138 [==============================] - 10s 9ms/step - loss: 0.0042\n",
      "Epoch 9/100\n",
      "1138/1138 [==============================] - 10s 9ms/step - loss: 0.0040\n",
      "Epoch 10/100\n",
      "1138/1138 [==============================] - 13s 11ms/step - loss: 0.0046\n",
      "Epoch 11/100\n",
      "1138/1138 [==============================] - 10s 9ms/step - loss: 0.0036\n",
      "Epoch 12/100\n",
      "1138/1138 [==============================] - 9s 8ms/step - loss: 0.0039\n",
      "Epoch 13/100\n",
      "1138/1138 [==============================] - 9s 8ms/step - loss: 0.0036\n",
      "Epoch 14/100\n",
      "1138/1138 [==============================] - 11s 9ms/step - loss: 0.0033\n",
      "Epoch 15/100\n",
      "1138/1138 [==============================] - 8s 7ms/step - loss: 0.0038\n",
      "Epoch 16/100\n",
      "1138/1138 [==============================] - 7s 7ms/step - loss: 0.0035\n",
      "Epoch 17/100\n",
      "1138/1138 [==============================] - 7s 6ms/step - loss: 0.0039\n",
      "Epoch 18/100\n",
      "1138/1138 [==============================] - 7s 6ms/step - loss: 0.0037\n",
      "Epoch 19/100\n",
      "1138/1138 [==============================] - 7s 6ms/step - loss: 0.0038\n",
      "Epoch 20/100\n",
      "1138/1138 [==============================] - 7s 6ms/step - loss: 0.0030\n",
      "Epoch 21/100\n",
      "1138/1138 [==============================] - 7s 6ms/step - loss: 0.0035\n",
      "Epoch 22/100\n",
      "1138/1138 [==============================] - 7s 7ms/step - loss: 0.0032\n",
      "Epoch 23/100\n",
      "1138/1138 [==============================] - 7s 6ms/step - loss: 0.0031\n",
      "Epoch 24/100\n",
      "1138/1138 [==============================] - 7s 6ms/step - loss: 0.0031\n",
      "Epoch 25/100\n",
      "1138/1138 [==============================] - 7s 6ms/step - loss: 0.0030\n",
      "Epoch 26/100\n",
      "1138/1138 [==============================] - 7s 6ms/step - loss: 0.0031\n",
      "Epoch 27/100\n",
      "1138/1138 [==============================] - 7s 7ms/step - loss: 0.0029\n",
      "Epoch 28/100\n",
      "1138/1138 [==============================] - 8s 7ms/step - loss: 0.0033\n",
      "Epoch 29/100\n",
      "1138/1138 [==============================] - 8s 7ms/step - loss: 0.0029\n",
      "Epoch 30/100\n",
      "1138/1138 [==============================] - 7s 7ms/step - loss: 0.0028\n",
      "Epoch 31/100\n",
      "1138/1138 [==============================] - 7s 7ms/step - loss: 0.0027\n",
      "Epoch 32/100\n",
      "1138/1138 [==============================] - 8s 7ms/step - loss: 0.0029\n",
      "Epoch 33/100\n",
      "1138/1138 [==============================] - 8s 7ms/step - loss: 0.0024\n",
      "Epoch 34/100\n",
      "1138/1138 [==============================] - 8s 7ms/step - loss: 0.0028\n",
      "Epoch 35/100\n",
      "1138/1138 [==============================] - 9s 8ms/step - loss: 0.0024\n",
      "Epoch 36/100\n",
      "1138/1138 [==============================] - 9s 8ms/step - loss: 0.0026\n",
      "Epoch 37/100\n",
      "1138/1138 [==============================] - 9s 8ms/step - loss: 0.0024\n",
      "Epoch 38/100\n",
      "1138/1138 [==============================] - 9s 8ms/step - loss: 0.0025\n",
      "Epoch 39/100\n",
      "1138/1138 [==============================] - 9s 8ms/step - loss: 0.0025\n",
      "Epoch 40/100\n",
      "1138/1138 [==============================] - 11s 10ms/step - loss: 0.0026\n",
      "Epoch 41/100\n",
      "1138/1138 [==============================] - 10s 9ms/step - loss: 0.0026\n",
      "Epoch 42/100\n",
      "1138/1138 [==============================] - 10s 8ms/step - loss: 0.0026\n",
      "Epoch 43/100\n",
      "1138/1138 [==============================] - 10s 9ms/step - loss: 0.0024\n",
      "Epoch 44/100\n",
      "1138/1138 [==============================] - 10s 8ms/step - loss: 0.0024\n",
      "Epoch 45/100\n",
      "1138/1138 [==============================] - 9s 8ms/step - loss: 0.0024\n",
      "Epoch 46/100\n",
      "1138/1138 [==============================] - 10s 9ms/step - loss: 0.0022\n",
      "Epoch 47/100\n",
      "1138/1138 [==============================] - 10s 9ms/step - loss: 0.0022\n",
      "Epoch 48/100\n",
      "1138/1138 [==============================] - 10s 9ms/step - loss: 0.0029\n",
      "Epoch 49/100\n",
      "1138/1138 [==============================] - 10s 8ms/step - loss: 0.0025\n",
      "Epoch 50/100\n",
      "1138/1138 [==============================] - 9s 8ms/step - loss: 0.0024\n",
      "Epoch 51/100\n",
      "1138/1138 [==============================] - 8s 7ms/step - loss: 0.0022\n",
      "Epoch 52/100\n",
      "1138/1138 [==============================] - 8s 7ms/step - loss: 0.0022\n",
      "Epoch 53/100\n",
      "1138/1138 [==============================] - 7s 6ms/step - loss: 0.0021\n",
      "Epoch 54/100\n",
      "1138/1138 [==============================] - 7s 6ms/step - loss: 0.0021\n",
      "Epoch 55/100\n",
      "1138/1138 [==============================] - 7s 7ms/step - loss: 0.0022\n",
      "Epoch 56/100\n",
      "1138/1138 [==============================] - 7s 6ms/step - loss: 0.0020\n",
      "Epoch 57/100\n",
      "1138/1138 [==============================] - 7s 7ms/step - loss: 0.0019\n",
      "Epoch 58/100\n",
      "1138/1138 [==============================] - 7s 6ms/step - loss: 0.0018\n",
      "Epoch 59/100\n",
      "1138/1138 [==============================] - 7s 6ms/step - loss: 0.0020A: 0s - loss: 0.\n",
      "Epoch 60/100\n",
      "1138/1138 [==============================] - 7s 6ms/step - loss: 0.0018\n",
      "Epoch 61/100\n",
      "1138/1138 [==============================] - 7s 6ms/step - loss: 0.0020\n",
      "Epoch 62/100\n",
      "1138/1138 [==============================] - 7s 6ms/step - loss: 0.0021\n",
      "Epoch 63/100\n",
      "1138/1138 [==============================] - 7s 6ms/step - loss: 0.0021\n",
      "Epoch 64/100\n",
      "1138/1138 [==============================] - 8s 7ms/step - loss: 0.0020\n",
      "Epoch 65/100\n",
      "1138/1138 [==============================] - 7s 6ms/step - loss: 0.0019\n",
      "Epoch 66/100\n",
      "1138/1138 [==============================] - 7s 6ms/step - loss: 0.0018\n",
      "Epoch 67/100\n",
      "1138/1138 [==============================] - 7s 6ms/step - loss: 0.0019\n",
      "Epoch 68/100\n",
      "1138/1138 [==============================] - 7s 6ms/step - loss: 0.0017\n",
      "Epoch 69/100\n",
      "1138/1138 [==============================] - 7s 6ms/step - loss: 0.0019\n",
      "Epoch 70/100\n",
      "1138/1138 [==============================] - 7s 6ms/step - loss: 0.0020\n",
      "Epoch 71/100\n",
      "1138/1138 [==============================] - 7s 6ms/step - loss: 0.0017\n",
      "Epoch 72/100\n",
      "1138/1138 [==============================] - 7s 6ms/step - loss: 0.0019\n",
      "Epoch 73/100\n",
      "1138/1138 [==============================] - 8s 7ms/step - loss: 0.0018\n",
      "Epoch 74/100\n",
      "1138/1138 [==============================] - 8s 7ms/step - loss: 0.0017\n",
      "Epoch 75/100\n",
      "1138/1138 [==============================] - 8s 7ms/step - loss: 0.0017\n",
      "Epoch 76/100\n",
      "1138/1138 [==============================] - 8s 7ms/step - loss: 0.0015\n",
      "Epoch 77/100\n",
      "1138/1138 [==============================] - 9s 8ms/step - loss: 0.0019\n",
      "Epoch 78/100\n",
      "1138/1138 [==============================] - 8s 7ms/step - loss: 0.0015\n",
      "Epoch 79/100\n",
      "1138/1138 [==============================] - 8s 7ms/step - loss: 0.0015\n",
      "Epoch 80/100\n",
      "1138/1138 [==============================] - 8s 7ms/step - loss: 0.0016\n",
      "Epoch 81/100\n",
      "1138/1138 [==============================] - 8s 7ms/step - loss: 0.0020\n",
      "Epoch 82/100\n",
      "1138/1138 [==============================] - 8s 7ms/step - loss: 0.0016\n",
      "Epoch 83/100\n",
      "1138/1138 [==============================] - 9s 8ms/step - loss: 0.0015\n",
      "Epoch 84/100\n",
      "1138/1138 [==============================] - 10s 9ms/step - loss: 0.0015\n",
      "Epoch 85/100\n",
      "1138/1138 [==============================] - 11s 9ms/step - loss: 0.0017\n",
      "Epoch 86/100\n",
      "1138/1138 [==============================] - 9s 8ms/step - loss: 0.0018\n",
      "Epoch 87/100\n",
      "1138/1138 [==============================] - 9s 8ms/step - loss: 0.0017\n",
      "Epoch 88/100\n",
      "1138/1138 [==============================] - 9s 8ms/step - loss: 0.0016\n",
      "Epoch 89/100\n",
      "1138/1138 [==============================] - 9s 8ms/step - loss: 0.0015\n",
      "Epoch 90/100\n",
      "1138/1138 [==============================] - 9s 8ms/step - loss: 0.0014\n",
      "Epoch 91/100\n",
      "1138/1138 [==============================] - 8s 7ms/step - loss: 0.0013\n",
      "Epoch 92/100\n",
      "1138/1138 [==============================] - 8s 7ms/step - loss: 0.0014\n",
      "Epoch 93/100\n",
      "1138/1138 [==============================] - 9s 8ms/step - loss: 0.0015\n",
      "Epoch 94/100\n",
      "1138/1138 [==============================] - 9s 8ms/step - loss: 0.0016\n",
      "Epoch 95/100\n",
      "1138/1138 [==============================] - 8s 7ms/step - loss: 0.0016\n",
      "Epoch 96/100\n",
      "1138/1138 [==============================] - 9s 8ms/step - loss: 0.0014\n"
     ]
    },
    {
     "name": "stdout",
     "output_type": "stream",
     "text": [
      "Epoch 97/100\n",
      "1138/1138 [==============================] - 9s 8ms/step - loss: 0.0015\n",
      "Epoch 98/100\n",
      "1138/1138 [==============================] - 8s 7ms/step - loss: 0.0014\n",
      "Epoch 99/100\n",
      "1138/1138 [==============================] - 8s 7ms/step - loss: 0.0014\n",
      "Epoch 100/100\n",
      "1138/1138 [==============================] - 9s 8ms/step - loss: 0.0014\n"
     ]
    },
    {
     "data": {
      "text/plain": [
       "<keras.callbacks.History at 0x7ffab932a090>"
      ]
     },
     "execution_count": 14,
     "metadata": {},
     "output_type": "execute_result"
    }
   ],
   "source": [
    "# Fitting the RNN to the Training set\n",
    "regressor.fit(X_train, y_train, epochs = 100, batch_size = 32)"
   ]
  },
  {
   "cell_type": "markdown",
   "metadata": {},
   "source": [
    "### Part 3 - Making preditictions and visualizing"
   ]
  },
  {
   "cell_type": "code",
   "execution_count": 17,
   "metadata": {},
   "outputs": [],
   "source": [
    "# Getting the real stock price of 2017\n",
    "dataset_test = pd.read_csv('Google_Stock_Price_Test.csv')\n",
    "real_stock_price = dataset_test.iloc[:, 1:2].values"
   ]
  },
  {
   "cell_type": "code",
   "execution_count": 18,
   "metadata": {},
   "outputs": [],
   "source": [
    "# Getting the predicted stock price of 2017\n",
    "dataset_total = pd.concat((dataset_train['Open'], dataset_test['Open']), axis = 0)\n",
    "inputs = dataset_total[len(dataset_total) - len(dataset_test) - 120:].values\n",
    "inputs = inputs.reshape(-1,1)\n",
    "inputs = sc.transform(inputs)\n",
    "X_test = []\n",
    "for i in range(120, 140):\n",
    "    X_test.append(inputs[i-120:i, 0])\n",
    "X_test = np.array(X_test)\n",
    "X_test = np.reshape(X_test, (X_test.shape[0], X_test.shape[1], 1))\n",
    "predicted_stock_price = regressor.predict(X_test)\n",
    "predicted_stock_price = sc.inverse_transform(predicted_stock_price)"
   ]
  },
  {
   "cell_type": "code",
   "execution_count": 19,
   "metadata": {},
   "outputs": [
    {
     "data": {
      "image/png": "[encoded data removed]",
      "text/plain": [
       "<Figure size 432x288 with 1 Axes>"
      ]
     },
     "metadata": {
      "needs_background": "light"
     },
     "output_type": "display_data"
    }
   ],
   "source": [
    "# Visualising the results\n",
    "plt.plot(real_stock_price, color = 'red', label = 'Real Google Stock Price')\n",
    "plt.plot(predicted_stock_price, color = 'blue', label = 'Predicted Google Stock Price')\n",
    "plt.title('Google Stock Price Prediction')\n",
    "plt.xlabel('Time')\n",
    "plt.ylabel('Google Stock Price')\n",
    "plt.legend()\n",
    "plt.show()"
   ]
  },
  {
   "cell_type": "markdown",
   "metadata": {},
   "source": [
    "Model does not react to fast non linear changes, it follows the upward and downward trend as it detects the smooth transitions."
   ]
  },
  {
   "cell_type": "code",
   "execution_count": 20,
   "metadata": {},
   "outputs": [],
   "source": [
    "import math\n",
    "from sklearn.metrics import mean_squared_error\n",
    "rmse = math.sqrt(mean_squared_error(real_stock_price, predicted_stock_price))"
   ]
  },
  {
   "cell_type": "code",
   "execution_count": 21,
   "metadata": {},
   "outputs": [
    {
     "data": {
      "text/plain": [
       "17.609289164933536"
      ]
     },
     "execution_count": 21,
     "metadata": {},
     "output_type": "execute_result"
    }
   ],
   "source": [
    "rmse"
   ]
  },
  {
   "cell_type": "code",
   "execution_count": 26,
   "metadata": {},
   "outputs": [],
   "source": [
    "mean = np.mean(dataset_train['Open'])"
   ]
  },
  {
   "cell_type": "code",
   "execution_count": 27,
   "metadata": {},
   "outputs": [],
   "source": [
    "rel_error = (rmse*100/mean)"
   ]
  },
  {
   "cell_type": "code",
   "execution_count": 28,
   "metadata": {},
   "outputs": [
    {
     "data": {
      "text/plain": [
       "3.299412541023574"
      ]
     },
     "execution_count": 28,
     "metadata": {},
     "output_type": "execute_result"
    }
   ],
   "source": [
    "rel_error"
   ]
  },
  {
   "cell_type": "markdown",
   "metadata": {},
   "source": [
    "### Part 4 - Tuning using GridSearch"
   ]
  },
  {
   "cell_type": "code",
   "execution_count": null,
   "metadata": {},
   "outputs": [],
   "source": []
  }
 ],
 "metadata": {
  "kernelspec": {
   "display_name": "dla2z",
   "language": "python",
   "name": "dla2z"
  },
  "language_info": {
   "codemirror_mode": {
    "name": "ipython",
    "version": 2
   },
   "file_extension": ".py",
   "mimetype": "text/x-python",
   "name": "python",
   "nbconvert_exporter": "python",
   "pygments_lexer": "ipython2",
   "version": "2.7.15rc1"
  }
 },
 "nbformat": 4,
 "nbformat_minor": 2
}
