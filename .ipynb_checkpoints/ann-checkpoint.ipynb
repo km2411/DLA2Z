{
 "cells": [
  {
   "cell_type": "code",
   "execution_count": 1,
   "metadata": {},
   "outputs": [],
   "source": [
    "# Part 1 - Data Preprocessing\n",
    "# Importing the libraries\n",
    "import numpy as np\n",
    "import matplotlib.pyplot as plt\n",
    "import pandas as pd"
   ]
  },
  {
   "cell_type": "code",
   "execution_count": 2,
   "metadata": {},
   "outputs": [],
   "source": [
    "# Importing the dataset\n",
    "dataset = pd.read_csv('Churn_Modelling.csv')\n",
    "# Select what variables to include for prediction\n",
    "X = dataset.iloc[:,3:13].values\n",
    "y = dataset.iloc[:,13].values\n",
    "#to test a new var, we create a test vector, append at the end\n",
    "#test_vec = np.array([[600, 'France', 'Male', 40, 3, 60000, 2, 1, 1, 50000]])\n",
    "#print(X.shape, test_vec.shape)\n",
    "#X = np.concatenate([X, test_vec])\n",
    "#len(X)\n",
    "#X[10000]"
   ]
  },
  {
   "cell_type": "code",
   "execution_count": 3,
   "metadata": {},
   "outputs": [],
   "source": [
    "# Encoding categorical data\n",
    "from sklearn.preprocessing import LabelEncoder, OneHotEncoder\n",
    "labelencoder_X_1 = LabelEncoder()\n",
    "X[:, 1] = labelencoder_X_1.fit_transform(X[:, 1])\n",
    "labelencoder_X_2 = LabelEncoder()\n",
    "X[:, 2] = labelencoder_X_2.fit_transform(X[:, 2])\n"
   ]
  },
  {
   "cell_type": "code",
   "execution_count": 4,
   "metadata": {},
   "outputs": [
    {
     "name": "stderr",
     "output_type": "stream",
     "text": [
      "/mnt/c/Users/kkart/Desktop/Work/MOOCS/DLA2Z/DLA2Z/local/lib/python2.7/site-packages/sklearn/preprocessing/_encoders.py:363: FutureWarning: The handling of integer data will change in version 0.22. Currently, the categories are determined based on the range [0, max(values)], while in the future they will be determined based on the unique values.\n",
      "If you want the future behaviour and silence this warning, you can specify \"categories='auto'\".\n",
      "In case you used a LabelEncoder before this OneHotEncoder to convert the categories to integers, then you can now use the OneHotEncoder directly.\n",
      "  warnings.warn(msg, FutureWarning)\n",
      "/mnt/c/Users/kkart/Desktop/Work/MOOCS/DLA2Z/DLA2Z/local/lib/python2.7/site-packages/sklearn/preprocessing/_encoders.py:385: DeprecationWarning: The 'categorical_features' keyword is deprecated in version 0.20 and will be removed in 0.22. You can use the ColumnTransformer instead.\n",
      "  \"use the ColumnTransformer instead.\", DeprecationWarning)\n"
     ]
    },
    {
     "data": {
      "text/plain": [
       "array([[0.0000000e+00, 0.0000000e+00, 6.1900000e+02, 0.0000000e+00,\n",
       "        4.2000000e+01, 2.0000000e+00, 0.0000000e+00, 1.0000000e+00,\n",
       "        1.0000000e+00, 1.0000000e+00, 1.0134888e+05],\n",
       "       [0.0000000e+00, 1.0000000e+00, 6.0800000e+02, 0.0000000e+00,\n",
       "        4.1000000e+01, 1.0000000e+00, 8.3807860e+04, 1.0000000e+00,\n",
       "        0.0000000e+00, 1.0000000e+00, 1.1254258e+05],\n",
       "       [0.0000000e+00, 0.0000000e+00, 5.0200000e+02, 0.0000000e+00,\n",
       "        4.2000000e+01, 8.0000000e+00, 1.5966080e+05, 3.0000000e+00,\n",
       "        1.0000000e+00, 0.0000000e+00, 1.1393157e+05]])"
      ]
     },
     "execution_count": 4,
     "metadata": {},
     "output_type": "execute_result"
    }
   ],
   "source": [
    "#remove one of the country, avoid the dummy variable trap\n",
    "onehotencoder = OneHotEncoder(categorical_features = [1])\n",
    "X = onehotencoder.fit_transform(X).toarray()\n",
    "X = X[:, 1:]\n",
    "X[:3]"
   ]
  },
  {
   "cell_type": "code",
   "execution_count": 5,
   "metadata": {},
   "outputs": [
    {
     "data": {
      "text/plain": [
       "(0, 11)"
      ]
     },
     "execution_count": 5,
     "metadata": {},
     "output_type": "execute_result"
    }
   ],
   "source": [
    "test_vec = X[10000:,]\n",
    "test_vec.shape"
   ]
  },
  {
   "cell_type": "code",
   "execution_count": 6,
   "metadata": {},
   "outputs": [],
   "source": [
    "# Splitting the dataset into the Training set and Test set\n",
    "from sklearn.model_selection import train_test_split\n",
    "X_train, X_test, y_train, y_test = train_test_split(X, y, test_size = 0.2, random_state = 0)"
   ]
  },
  {
   "cell_type": "code",
   "execution_count": 7,
   "metadata": {},
   "outputs": [
    {
     "data": {
      "text/plain": [
       "8000"
      ]
     },
     "execution_count": 7,
     "metadata": {},
     "output_type": "execute_result"
    }
   ],
   "source": [
    "len(X_train)"
   ]
  },
  {
   "cell_type": "code",
   "execution_count": 8,
   "metadata": {},
   "outputs": [],
   "source": [
    "# Feature Scaling\n",
    "from sklearn.preprocessing import StandardScaler\n",
    "sc = StandardScaler()\n",
    "X_train = sc.fit_transform(X_train)\n",
    "X_test = sc.transform(X_test)"
   ]
  },
  {
   "cell_type": "code",
   "execution_count": 9,
   "metadata": {},
   "outputs": [
    {
     "data": {
      "text/plain": [
       "array([[-0.5698444 ,  1.74309049,  0.16958176, ...,  0.64259497,\n",
       "        -1.03227043,  1.10643166],\n",
       "       [ 1.75486502, -0.57369368, -2.30455945, ...,  0.64259497,\n",
       "         0.9687384 , -0.74866447],\n",
       "       [-0.5698444 , -0.57369368, -1.19119591, ...,  0.64259497,\n",
       "        -1.03227043,  1.48533467],\n",
       "       ...,\n",
       "       [-0.5698444 , -0.57369368,  0.9015152 , ...,  0.64259497,\n",
       "        -1.03227043,  1.41231994],\n",
       "       [-0.5698444 ,  1.74309049, -0.62420521, ...,  0.64259497,\n",
       "         0.9687384 ,  0.84432121],\n",
       "       [ 1.75486502, -0.57369368, -0.28401079, ...,  0.64259497,\n",
       "        -1.03227043,  0.32472465]])"
      ]
     },
     "execution_count": 9,
     "metadata": {},
     "output_type": "execute_result"
    }
   ],
   "source": [
    "X_train"
   ]
  },
  {
   "cell_type": "code",
   "execution_count": 10,
   "metadata": {},
   "outputs": [
    {
     "name": "stderr",
     "output_type": "stream",
     "text": [
      "Using TensorFlow backend.\n"
     ]
    }
   ],
   "source": [
    "# Part 2 - Now let's make the ANN!\n",
    "\n",
    "# Importing the Keras libraries and packages\n",
    "import keras"
   ]
  },
  {
   "cell_type": "code",
   "execution_count": 11,
   "metadata": {},
   "outputs": [],
   "source": [
    "from keras.models import Sequential\n",
    "from keras.layers import Dense"
   ]
  },
  {
   "cell_type": "code",
   "execution_count": 12,
   "metadata": {},
   "outputs": [],
   "source": [
    "# Initialising the ANN\n",
    "classifier = Sequential()"
   ]
  },
  {
   "cell_type": "code",
   "execution_count": 13,
   "metadata": {},
   "outputs": [],
   "source": [
    "# Adding the input layer and the first hidden layer\n",
    "classifier.add(Dense(units = 6, kernel_initializer = 'uniform', activation = 'relu', input_dim = 11))"
   ]
  },
  {
   "cell_type": "code",
   "execution_count": 14,
   "metadata": {},
   "outputs": [],
   "source": [
    "# Adding the second hidden layer\n",
    "classifier.add(Dense(units = 6, kernel_initializer = 'uniform', activation = 'relu'))"
   ]
  },
  {
   "cell_type": "code",
   "execution_count": 15,
   "metadata": {},
   "outputs": [],
   "source": [
    "# Adding the output layer\n",
    "classifier.add(Dense(units = 1, kernel_initializer = 'uniform', activation = 'sigmoid'))"
   ]
  },
  {
   "cell_type": "code",
   "execution_count": 16,
   "metadata": {},
   "outputs": [],
   "source": [
    "# Compiling the ANN\n",
    "classifier.compile(optimizer = 'adam', loss = 'binary_crossentropy', metrics = ['accuracy'])"
   ]
  },
  {
   "cell_type": "code",
   "execution_count": 17,
   "metadata": {},
   "outputs": [
    {
     "name": "stdout",
     "output_type": "stream",
     "text": [
      "Epoch 1/100\n",
      "8000/8000 [==============================] - 1s 142us/step - loss: 0.4804 - acc: 0.7955\n",
      "Epoch 2/100\n",
      "8000/8000 [==============================] - 1s 97us/step - loss: 0.4270 - acc: 0.7960\n",
      "Epoch 3/100\n",
      "8000/8000 [==============================] - 1s 97us/step - loss: 0.4219 - acc: 0.7960\n",
      "Epoch 4/100\n",
      "8000/8000 [==============================] - 1s 103us/step - loss: 0.4184 - acc: 0.8211\n",
      "Epoch 5/100\n",
      "8000/8000 [==============================] - 1s 122us/step - loss: 0.4161 - acc: 0.8269\n",
      "Epoch 6/100\n",
      "8000/8000 [==============================] - 1s 111us/step - loss: 0.4144 - acc: 0.8279\n",
      "Epoch 7/100\n",
      "8000/8000 [==============================] - 1s 128us/step - loss: 0.4124 - acc: 0.8307\n",
      "Epoch 8/100\n",
      "8000/8000 [==============================] - 1s 107us/step - loss: 0.4117 - acc: 0.8320\n",
      "Epoch 9/100\n",
      "8000/8000 [==============================] - 1s 115us/step - loss: 0.4106 - acc: 0.8331\n",
      "Epoch 10/100\n",
      "8000/8000 [==============================] - 1s 114us/step - loss: 0.4097 - acc: 0.8339\n",
      "Epoch 11/100\n",
      "8000/8000 [==============================] - 1s 113us/step - loss: 0.4086 - acc: 0.8350\n",
      "Epoch 12/100\n",
      "8000/8000 [==============================] - 1s 103us/step - loss: 0.4084 - acc: 0.8349\n",
      "Epoch 13/100\n",
      "8000/8000 [==============================] - 1s 99us/step - loss: 0.4072 - acc: 0.8336\n",
      "Epoch 14/100\n",
      "8000/8000 [==============================] - 1s 116us/step - loss: 0.4064 - acc: 0.8336\n",
      "Epoch 15/100\n",
      "8000/8000 [==============================] - 1s 124us/step - loss: 0.4060 - acc: 0.8342\n",
      "Epoch 16/100\n",
      "8000/8000 [==============================] - 1s 119us/step - loss: 0.4060 - acc: 0.8347\n",
      "Epoch 17/100\n",
      "8000/8000 [==============================] - 1s 106us/step - loss: 0.4053 - acc: 0.8347\n",
      "Epoch 18/100\n",
      "8000/8000 [==============================] - 1s 98us/step - loss: 0.4052 - acc: 0.8347\n",
      "Epoch 19/100\n",
      "8000/8000 [==============================] - 1s 98us/step - loss: 0.4046 - acc: 0.8336\n",
      "Epoch 20/100\n",
      "8000/8000 [==============================] - 1s 98us/step - loss: 0.4048 - acc: 0.8337\n",
      "Epoch 21/100\n",
      "8000/8000 [==============================] - 1s 98us/step - loss: 0.4043 - acc: 0.8342\n",
      "Epoch 22/100\n",
      "8000/8000 [==============================] - 1s 116us/step - loss: 0.4046 - acc: 0.8342\n",
      "Epoch 23/100\n",
      "8000/8000 [==============================] - 1s 102us/step - loss: 0.4042 - acc: 0.8345\n",
      "Epoch 24/100\n",
      "8000/8000 [==============================] - 1s 127us/step - loss: 0.4039 - acc: 0.8336\n",
      "Epoch 25/100\n",
      "8000/8000 [==============================] - 1s 134us/step - loss: 0.4033 - acc: 0.8334\n",
      "Epoch 26/100\n",
      "8000/8000 [==============================] - 1s 108us/step - loss: 0.4032 - acc: 0.8356\n",
      "Epoch 27/100\n",
      "8000/8000 [==============================] - 1s 109us/step - loss: 0.4034 - acc: 0.8344\n",
      "Epoch 28/100\n",
      "8000/8000 [==============================] - 1s 108us/step - loss: 0.4033 - acc: 0.8327\n",
      "Epoch 29/100\n",
      "8000/8000 [==============================] - 1s 113us/step - loss: 0.4035 - acc: 0.8345\n",
      "Epoch 30/100\n",
      "8000/8000 [==============================] - 1s 107us/step - loss: 0.4028 - acc: 0.8346\n",
      "Epoch 31/100\n",
      "8000/8000 [==============================] - 1s 118us/step - loss: 0.4029 - acc: 0.8360\n",
      "Epoch 32/100\n",
      "8000/8000 [==============================] - 1s 111us/step - loss: 0.4021 - acc: 0.8337\n",
      "Epoch 33/100\n",
      "8000/8000 [==============================] - 1s 108us/step - loss: 0.4025 - acc: 0.8352\n",
      "Epoch 34/100\n",
      "8000/8000 [==============================] - 1s 115us/step - loss: 0.4019 - acc: 0.8341\n",
      "Epoch 35/100\n",
      "8000/8000 [==============================] - 1s 109us/step - loss: 0.4021 - acc: 0.8341\n",
      "Epoch 36/100\n",
      "8000/8000 [==============================] - 1s 101us/step - loss: 0.4020 - acc: 0.8355\n",
      "Epoch 37/100\n",
      "8000/8000 [==============================] - 1s 96us/step - loss: 0.4023 - acc: 0.8349\n",
      "Epoch 38/100\n",
      "8000/8000 [==============================] - 1s 101us/step - loss: 0.4018 - acc: 0.8345\n",
      "Epoch 39/100\n",
      "8000/8000 [==============================] - 1s 115us/step - loss: 0.4016 - acc: 0.8351\n",
      "Epoch 40/100\n",
      "8000/8000 [==============================] - 1s 102us/step - loss: 0.4014 - acc: 0.8364\n",
      "Epoch 41/100\n",
      "8000/8000 [==============================] - 1s 107us/step - loss: 0.4014 - acc: 0.8346\n",
      "Epoch 42/100\n",
      "8000/8000 [==============================] - 1s 106us/step - loss: 0.4014 - acc: 0.8352\n",
      "Epoch 43/100\n",
      "8000/8000 [==============================] - 1s 108us/step - loss: 0.4010 - acc: 0.8361\n",
      "Epoch 44/100\n",
      "8000/8000 [==============================] - 1s 106us/step - loss: 0.4012 - acc: 0.8351\n",
      "Epoch 45/100\n",
      "8000/8000 [==============================] - 1s 104us/step - loss: 0.4010 - acc: 0.8344\n",
      "Epoch 46/100\n",
      "8000/8000 [==============================] - 1s 108us/step - loss: 0.4015 - acc: 0.8341\n",
      "Epoch 47/100\n",
      "8000/8000 [==============================] - 1s 114us/step - loss: 0.4015 - acc: 0.8346\n",
      "Epoch 48/100\n",
      "8000/8000 [==============================] - 1s 118us/step - loss: 0.4013 - acc: 0.8346\n",
      "Epoch 49/100\n",
      "8000/8000 [==============================] - 1s 108us/step - loss: 0.4008 - acc: 0.8350\n",
      "Epoch 50/100\n",
      "8000/8000 [==============================] - 1s 107us/step - loss: 0.4006 - acc: 0.8347\n",
      "Epoch 51/100\n",
      "8000/8000 [==============================] - 1s 107us/step - loss: 0.4010 - acc: 0.8357\n",
      "Epoch 52/100\n",
      "8000/8000 [==============================] - 1s 107us/step - loss: 0.4008 - acc: 0.8349\n",
      "Epoch 53/100\n",
      "8000/8000 [==============================] - 1s 107us/step - loss: 0.4007 - acc: 0.8349\n",
      "Epoch 54/100\n",
      "8000/8000 [==============================] - 1s 107us/step - loss: 0.4008 - acc: 0.8345\n",
      "Epoch 55/100\n",
      "8000/8000 [==============================] - 1s 106us/step - loss: 0.4007 - acc: 0.8345\n",
      "Epoch 56/100\n",
      "8000/8000 [==============================] - 1s 107us/step - loss: 0.4006 - acc: 0.8336\n",
      "Epoch 57/100\n",
      "8000/8000 [==============================] - 1s 112us/step - loss: 0.4009 - acc: 0.8346\n",
      "Epoch 58/100\n",
      "8000/8000 [==============================] - 1s 112us/step - loss: 0.4007 - acc: 0.8354\n",
      "Epoch 59/100\n",
      "8000/8000 [==============================] - 1s 105us/step - loss: 0.4007 - acc: 0.8345\n",
      "Epoch 60/100\n",
      "8000/8000 [==============================] - 1s 101us/step - loss: 0.4003 - acc: 0.8359\n",
      "Epoch 61/100\n",
      "8000/8000 [==============================] - 1s 100us/step - loss: 0.4007 - acc: 0.8357\n",
      "Epoch 62/100\n",
      "8000/8000 [==============================] - 1s 100us/step - loss: 0.4004 - acc: 0.8361\n",
      "Epoch 63/100\n",
      "8000/8000 [==============================] - 1s 97us/step - loss: 0.4003 - acc: 0.8355\n",
      "Epoch 64/100\n",
      "8000/8000 [==============================] - 1s 101us/step - loss: 0.4004 - acc: 0.8331\n",
      "Epoch 65/100\n",
      "8000/8000 [==============================] - 1s 96us/step - loss: 0.4007 - acc: 0.8342\n",
      "Epoch 66/100\n",
      "8000/8000 [==============================] - 1s 126us/step - loss: 0.4002 - acc: 0.8347\n",
      "Epoch 67/100\n",
      "8000/8000 [==============================] - 1s 107us/step - loss: 0.3999 - acc: 0.8344\n",
      "Epoch 68/100\n",
      "8000/8000 [==============================] - 1s 99us/step - loss: 0.4005 - acc: 0.8346\n",
      "Epoch 69/100\n",
      "8000/8000 [==============================] - 1s 101us/step - loss: 0.4003 - acc: 0.8351\n",
      "Epoch 70/100\n",
      "8000/8000 [==============================] - 1s 97us/step - loss: 0.4001 - acc: 0.8346\n",
      "Epoch 71/100\n",
      "8000/8000 [==============================] - 1s 99us/step - loss: 0.4000 - acc: 0.8345\n",
      "Epoch 72/100\n",
      "8000/8000 [==============================] - 1s 100us/step - loss: 0.4001 - acc: 0.8349\n",
      "Epoch 73/100\n",
      "8000/8000 [==============================] - 1s 100us/step - loss: 0.3998 - acc: 0.8345\n",
      "Epoch 74/100\n",
      "8000/8000 [==============================] - 1s 97us/step - loss: 0.4002 - acc: 0.8347\n",
      "Epoch 75/100\n",
      "8000/8000 [==============================] - 1s 100us/step - loss: 0.3994 - acc: 0.8349\n",
      "Epoch 76/100\n",
      "8000/8000 [==============================] - 1s 97us/step - loss: 0.4004 - acc: 0.8341\n",
      "Epoch 77/100\n",
      "8000/8000 [==============================] - 1s 99us/step - loss: 0.3999 - acc: 0.8345\n",
      "Epoch 78/100\n",
      "8000/8000 [==============================] - 1s 97us/step - loss: 0.4004 - acc: 0.8350\n",
      "Epoch 79/100\n",
      "8000/8000 [==============================] - 1s 100us/step - loss: 0.4003 - acc: 0.8344\n",
      "Epoch 80/100\n",
      "8000/8000 [==============================] - 1s 101us/step - loss: 0.3999 - acc: 0.8354\n",
      "Epoch 81/100\n",
      "8000/8000 [==============================] - 1s 100us/step - loss: 0.3994 - acc: 0.8341\n",
      "Epoch 82/100\n"
     ]
    },
    {
     "name": "stdout",
     "output_type": "stream",
     "text": [
      "8000/8000 [==============================] - 1s 84us/step - loss: 0.4000 - acc: 0.8345\n",
      "Epoch 83/100\n",
      "8000/8000 [==============================] - 1s 93us/step - loss: 0.4002 - acc: 0.8356\n",
      "Epoch 84/100\n",
      "8000/8000 [==============================] - 1s 87us/step - loss: 0.4000 - acc: 0.8356\n",
      "Epoch 85/100\n",
      "8000/8000 [==============================] - 1s 88us/step - loss: 0.3995 - acc: 0.8344\n",
      "Epoch 86/100\n",
      "8000/8000 [==============================] - 1s 88us/step - loss: 0.3998 - acc: 0.8349\n",
      "Epoch 87/100\n",
      "8000/8000 [==============================] - 1s 90us/step - loss: 0.4002 - acc: 0.8346\n",
      "Epoch 88/100\n",
      "8000/8000 [==============================] - 1s 91us/step - loss: 0.4002 - acc: 0.8349\n",
      "Epoch 89/100\n",
      "8000/8000 [==============================] - 1s 87us/step - loss: 0.3994 - acc: 0.8352\n",
      "Epoch 90/100\n",
      "8000/8000 [==============================] - 1s 90us/step - loss: 0.3999 - acc: 0.8366\n",
      "Epoch 91/100\n",
      "8000/8000 [==============================] - 1s 92us/step - loss: 0.4000 - acc: 0.8352\n",
      "Epoch 92/100\n",
      "8000/8000 [==============================] - 1s 91us/step - loss: 0.3999 - acc: 0.8371\n",
      "Epoch 93/100\n",
      "8000/8000 [==============================] - 1s 93us/step - loss: 0.3999 - acc: 0.8350\n",
      "Epoch 94/100\n",
      "8000/8000 [==============================] - 1s 92us/step - loss: 0.3999 - acc: 0.8346\n",
      "Epoch 95/100\n",
      "8000/8000 [==============================] - 1s 92us/step - loss: 0.3995 - acc: 0.8342\n",
      "Epoch 96/100\n",
      "8000/8000 [==============================] - 1s 95us/step - loss: 0.4002 - acc: 0.8352\n",
      "Epoch 97/100\n",
      "8000/8000 [==============================] - 1s 93us/step - loss: 0.3996 - acc: 0.8341\n",
      "Epoch 98/100\n",
      "8000/8000 [==============================] - 1s 93us/step - loss: 0.3999 - acc: 0.8352\n",
      "Epoch 99/100\n",
      "8000/8000 [==============================] - 1s 82us/step - loss: 0.3998 - acc: 0.8346\n",
      "Epoch 100/100\n",
      "8000/8000 [==============================] - 1s 85us/step - loss: 0.3999 - acc: 0.8349\n"
     ]
    }
   ],
   "source": [
    "# Fitting the ANN to the Training set\n",
    "classifier.fit(X_train, y_train, batch_size = 10, epochs = 100);"
   ]
  },
  {
   "cell_type": "code",
   "execution_count": 19,
   "metadata": {},
   "outputs": [],
   "source": [
    "# Part 3 - Making predictions and evaluating the model\n",
    "\n",
    "# Predicting the Test set results\n",
    "y_pred = classifier.predict(X_test)\n",
    "y_pred = (y_pred > 0.5)\n",
    "\n",
    "#prediction for test_vect\n",
    "y_pred_test = classifier.predict(test_vec)\n",
    "y_pred_test = (y_pred_test > 0.5)\n",
    "#y_pred_test[0,0]"
   ]
  },
  {
   "cell_type": "code",
   "execution_count": 20,
   "metadata": {},
   "outputs": [],
   "source": [
    "# Making the Confusion Matrix\n",
    "from sklearn.metrics import confusion_matrix\n",
    "cm = confusion_matrix(y_test, y_pred)"
   ]
  },
  {
   "cell_type": "code",
   "execution_count": 21,
   "metadata": {},
   "outputs": [
    {
     "data": {
      "text/plain": [
       "array([[1543,   52],\n",
       "       [ 261,  144]])"
      ]
     },
     "execution_count": 21,
     "metadata": {},
     "output_type": "execute_result"
    }
   ],
   "source": [
    "cm"
   ]
  },
  {
   "cell_type": "code",
   "execution_count": 22,
   "metadata": {},
   "outputs": [
    {
     "data": {
      "text/plain": [
       "89"
      ]
     },
     "execution_count": 22,
     "metadata": {},
     "output_type": "execute_result"
    }
   ],
   "source": [
    "(1541 + 257)/20"
   ]
  },
  {
   "cell_type": "code",
   "execution_count": 23,
   "metadata": {},
   "outputs": [
    {
     "data": {
      "text/plain": [
       "Index([u'RowNumber', u'CustomerId', u'Surname', u'CreditScore', u'Geography',\n",
       "       u'Gender', u'Age', u'Tenure', u'Balance', u'NumOfProducts',\n",
       "       u'HasCrCard', u'IsActiveMember', u'EstimatedSalary', u'Exited'],\n",
       "      dtype='object')"
      ]
     },
     "execution_count": 23,
     "metadata": {},
     "output_type": "execute_result"
    }
   ],
   "source": [
    "dataset.columns"
   ]
  },
  {
   "cell_type": "code",
   "execution_count": 24,
   "metadata": {},
   "outputs": [
    {
     "data": {
      "text/plain": [
       "array([[1, 15634602, 'Hargrave', 619, 'France', 'Female', 42, 2, 0.0, 1,\n",
       "        1, 1, 101348.88, 1],\n",
       "       [2, 15647311, 'Hill', 608, 'Spain', 'Female', 41, 1, 83807.86, 1,\n",
       "        0, 1, 112542.58, 0]], dtype=object)"
      ]
     },
     "execution_count": 24,
     "metadata": {},
     "output_type": "execute_result"
    }
   ],
   "source": [
    "dataset.values[0:2]"
   ]
  },
  {
   "cell_type": "code",
   "execution_count": 25,
   "metadata": {},
   "outputs": [
    {
     "data": {
      "text/plain": [
       "array([[0.0000000e+00, 0.0000000e+00, 6.1900000e+02, 0.0000000e+00,\n",
       "        4.2000000e+01, 2.0000000e+00, 0.0000000e+00, 1.0000000e+00,\n",
       "        1.0000000e+00, 1.0000000e+00, 1.0134888e+05],\n",
       "       [0.0000000e+00, 1.0000000e+00, 6.0800000e+02, 0.0000000e+00,\n",
       "        4.1000000e+01, 1.0000000e+00, 8.3807860e+04, 1.0000000e+00,\n",
       "        0.0000000e+00, 1.0000000e+00, 1.1254258e+05]])"
      ]
     },
     "execution_count": 25,
     "metadata": {},
     "output_type": "execute_result"
    }
   ],
   "source": [
    "X[0:2]"
   ]
  },
  {
   "cell_type": "markdown",
   "metadata": {},
   "source": [
    "## Implement cross-validation"
   ]
  },
  {
   "cell_type": "code",
   "execution_count": 27,
   "metadata": {},
   "outputs": [],
   "source": [
    "#need to import keras wrapper for scikitlearn \n",
    "from keras.wrappers.scikit_learn import KerasClassifier"
   ]
  },
  {
   "cell_type": "code",
   "execution_count": 28,
   "metadata": {},
   "outputs": [],
   "source": [
    "from sklearn.model_selection import cross_val_score"
   ]
  },
  {
   "cell_type": "code",
   "execution_count": null,
   "metadata": {},
   "outputs": [],
   "source": [
    "#define a function to build the classifier layer by layer\n",
    "\n",
    "def build_classifier():\n",
    "    classifier = Sequential()\n",
    "\n",
    "    # Adding the input layer and the first hidden layer\n",
    "    classifier.add(Dense(units = 6, kernel_initializer = 'uniform', activation = 'relu', input_dim = 11))\n",
    "\n",
    "    # Adding the second hidden layer\n",
    "    classifier.add(Dense(units = 6, kernel_initializer = 'uniform', activation = 'relu'))\n",
    "\n",
    "    # Adding the output layer\n",
    "    classifier.add(Dense(units = 1, kernel_initializer = 'uniform', activation = 'sigmoid'))\n",
    "\n",
    "    # Compiling the ANN\n",
    "    classifier.compile(optimizer = 'adam', loss = 'binary_crossentropy', metrics = ['accuracy'])"
   ]
  }
 ],
 "metadata": {
  "kernelspec": {
   "display_name": "dla2z",
   "language": "python",
   "name": "dla2z"
  },
  "language_info": {
   "codemirror_mode": {
    "name": "ipython",
    "version": 2
   },
   "file_extension": ".py",
   "mimetype": "text/x-python",
   "name": "python",
   "nbconvert_exporter": "python",
   "pygments_lexer": "ipython2",
   "version": "2.7.15rc1"
  }
 },
 "nbformat": 4,
 "nbformat_minor": 2
}
