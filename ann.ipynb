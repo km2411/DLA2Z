{
 "cells": [
  {
   "cell_type": "code",
   "execution_count": 1,
   "metadata": {},
   "outputs": [],
   "source": [
    "# Part 1 - Data Preprocessing\n",
    "# Importing the libraries\n",
    "import numpy as np\n",
    "import matplotlib.pyplot as plt\n",
    "import pandas as pd"
   ]
  },
  {
   "cell_type": "code",
   "execution_count": 75,
   "metadata": {},
   "outputs": [
    {
     "name": "stdout",
     "output_type": "stream",
     "text": [
      "((10000, 10), (1, 10))\n"
     ]
    },
    {
     "data": {
      "text/plain": [
       "array(['600', 'France', 'Male', '40', '3', '60000', '2', '1', '1',\n",
       "       '50000'], dtype=object)"
      ]
     },
     "execution_count": 75,
     "metadata": {},
     "output_type": "execute_result"
    }
   ],
   "source": [
    "# Importing the dataset\n",
    "dataset = pd.read_csv('Churn_Modelling.csv')\n",
    "# Select what variables to include for prediction\n",
    "X = dataset.iloc[:,3:13].values\n",
    "y = dataset.iloc[:,13].values\n",
    "#to test a new var, we create a test vector, append at the end\n",
    "test_vec = np.array([[600, 'France', 'Male', 40, 3, 60000, 2, 1, 1, 50000]])\n",
    "print(X.shape, test_vec.shape)\n",
    "X = np.concatenate([X, test_vec])\n",
    "len(X)\n",
    "X[10000]"
   ]
  },
  {
   "cell_type": "code",
   "execution_count": 76,
   "metadata": {},
   "outputs": [],
   "source": [
    "# Encoding categorical data\n",
    "from sklearn.preprocessing import LabelEncoder, OneHotEncoder\n",
    "labelencoder_X_1 = LabelEncoder()\n",
    "X[:, 1] = labelencoder_X_1.fit_transform(X[:, 1])\n",
    "labelencoder_X_2 = LabelEncoder()\n",
    "X[:, 2] = labelencoder_X_2.fit_transform(X[:, 2])\n"
   ]
  },
  {
   "cell_type": "code",
   "execution_count": 77,
   "metadata": {},
   "outputs": [
    {
     "data": {
      "text/plain": [
       "array([[0.0000000e+00, 0.0000000e+00, 6.1900000e+02, 0.0000000e+00,\n",
       "        4.2000000e+01, 2.0000000e+00, 0.0000000e+00, 1.0000000e+00,\n",
       "        1.0000000e+00, 1.0000000e+00, 1.0134888e+05],\n",
       "       [0.0000000e+00, 1.0000000e+00, 6.0800000e+02, 0.0000000e+00,\n",
       "        4.1000000e+01, 1.0000000e+00, 8.3807860e+04, 1.0000000e+00,\n",
       "        0.0000000e+00, 1.0000000e+00, 1.1254258e+05],\n",
       "       [0.0000000e+00, 0.0000000e+00, 5.0200000e+02, 0.0000000e+00,\n",
       "        4.2000000e+01, 8.0000000e+00, 1.5966080e+05, 3.0000000e+00,\n",
       "        1.0000000e+00, 0.0000000e+00, 1.1393157e+05]])"
      ]
     },
     "execution_count": 77,
     "metadata": {},
     "output_type": "execute_result"
    }
   ],
   "source": [
    "#remove one of the country, avoid the dummy variable trap\n",
    "onehotencoder = OneHotEncoder(categorical_features = [1])\n",
    "X = onehotencoder.fit_transform(X).toarray()\n",
    "X = X[:, 1:]\n",
    "X[:3]"
   ]
  },
  {
   "cell_type": "code",
   "execution_count": 94,
   "metadata": {},
   "outputs": [
    {
     "data": {
      "text/plain": [
       "(1, 11)"
      ]
     },
     "execution_count": 94,
     "metadata": {},
     "output_type": "execute_result"
    }
   ],
   "source": [
    "test_vec = X[10000:,]\n",
    "test_vec.shape"
   ]
  },
  {
   "cell_type": "code",
   "execution_count": 5,
   "metadata": {},
   "outputs": [],
   "source": [
    "# Splitting the dataset into the Training set and Test set\n",
    "from sklearn.model_selection import train_test_split\n",
    "X_train, X_test, y_train, y_test = train_test_split(X, y, test_size = 0.2, random_state = 0)"
   ]
  },
  {
   "cell_type": "code",
   "execution_count": 6,
   "metadata": {},
   "outputs": [
    {
     "data": {
      "text/plain": [
       "8000"
      ]
     },
     "execution_count": 6,
     "metadata": {},
     "output_type": "execute_result"
    }
   ],
   "source": [
    "len(X_train)"
   ]
  },
  {
   "cell_type": "code",
   "execution_count": 7,
   "metadata": {},
   "outputs": [],
   "source": [
    "# Feature Scaling\n",
    "from sklearn.preprocessing import StandardScaler\n",
    "sc = StandardScaler()\n",
    "X_train = sc.fit_transform(X_train)\n",
    "X_test = sc.transform(X_test)"
   ]
  },
  {
   "cell_type": "code",
   "execution_count": 8,
   "metadata": {},
   "outputs": [
    {
     "data": {
      "text/plain": [
       "array([[-0.5698444 ,  1.74309049,  0.16958176, ...,  0.64259497,\n",
       "        -1.03227043,  1.10643166],\n",
       "       [ 1.75486502, -0.57369368, -2.30455945, ...,  0.64259497,\n",
       "         0.9687384 , -0.74866447],\n",
       "       [-0.5698444 , -0.57369368, -1.19119591, ...,  0.64259497,\n",
       "        -1.03227043,  1.48533467],\n",
       "       ...,\n",
       "       [-0.5698444 , -0.57369368,  0.9015152 , ...,  0.64259497,\n",
       "        -1.03227043,  1.41231994],\n",
       "       [-0.5698444 ,  1.74309049, -0.62420521, ...,  0.64259497,\n",
       "         0.9687384 ,  0.84432121],\n",
       "       [ 1.75486502, -0.57369368, -0.28401079, ...,  0.64259497,\n",
       "        -1.03227043,  0.32472465]])"
      ]
     },
     "execution_count": 8,
     "metadata": {},
     "output_type": "execute_result"
    }
   ],
   "source": [
    "X_train"
   ]
  },
  {
   "cell_type": "code",
   "execution_count": 9,
   "metadata": {},
   "outputs": [
    {
     "name": "stderr",
     "output_type": "stream",
     "text": [
      "Using TensorFlow backend.\n"
     ]
    }
   ],
   "source": [
    "# Part 2 - Now let's make the ANN!\n",
    "\n",
    "# Importing the Keras libraries and packages\n",
    "import keras"
   ]
  },
  {
   "cell_type": "code",
   "execution_count": 11,
   "metadata": {},
   "outputs": [],
   "source": [
    "from keras.models import Sequential\n",
    "from keras.layers import Dense"
   ]
  },
  {
   "cell_type": "code",
   "execution_count": 12,
   "metadata": {},
   "outputs": [],
   "source": [
    "# Initialising the ANN\n",
    "classifier = Sequential()"
   ]
  },
  {
   "cell_type": "code",
   "execution_count": 13,
   "metadata": {},
   "outputs": [],
   "source": [
    "# Adding the input layer and the first hidden layer\n",
    "classifier.add(Dense(units = 6, kernel_initializer = 'uniform', activation = 'relu', input_dim = 11))"
   ]
  },
  {
   "cell_type": "code",
   "execution_count": 14,
   "metadata": {},
   "outputs": [],
   "source": [
    "# Adding the second hidden layer\n",
    "classifier.add(Dense(units = 6, kernel_initializer = 'uniform', activation = 'relu'))"
   ]
  },
  {
   "cell_type": "code",
   "execution_count": 15,
   "metadata": {},
   "outputs": [],
   "source": [
    "# Adding the output layer\n",
    "classifier.add(Dense(units = 1, kernel_initializer = 'uniform', activation = 'sigmoid'))"
   ]
  },
  {
   "cell_type": "code",
   "execution_count": 16,
   "metadata": {},
   "outputs": [],
   "source": [
    "# Compiling the ANN\n",
    "classifier.compile(optimizer = 'adam', loss = 'binary_crossentropy', metrics = ['accuracy'])"
   ]
  },
  {
   "cell_type": "code",
   "execution_count": 17,
   "metadata": {},
   "outputs": [
    {
     "name": "stdout",
     "output_type": "stream",
     "text": [
      "Epoch 1/100\n",
      "8000/8000 [==============================] - 4s 459us/step - loss: 0.4809 - acc: 0.7950\n",
      "Epoch 2/100\n",
      "8000/8000 [==============================] - 3s 404us/step - loss: 0.4280 - acc: 0.7960\n",
      "Epoch 3/100\n",
      "8000/8000 [==============================] - 3s 387us/step - loss: 0.4221 - acc: 0.7962\n",
      "Epoch 4/100\n",
      "8000/8000 [==============================] - 3s 422us/step - loss: 0.4181 - acc: 0.8227\n",
      "Epoch 5/100\n",
      "8000/8000 [==============================] - 4s 493us/step - loss: 0.4155 - acc: 0.8271\n",
      "Epoch 6/100\n",
      "8000/8000 [==============================] - 11s 1ms/step - loss: 0.4140 - acc: 0.8290\n",
      "Epoch 7/100\n",
      "8000/8000 [==============================] - 16s 2ms/step - loss: 0.4126 - acc: 0.8322\n",
      "Epoch 8/100\n",
      "8000/8000 [==============================] - 5s 585us/step - loss: 0.4109 - acc: 0.8334\n",
      "Epoch 9/100\n",
      "8000/8000 [==============================] - 4s 494us/step - loss: 0.4105 - acc: 0.8327\n",
      "Epoch 10/100\n",
      "8000/8000 [==============================] - 4s 480us/step - loss: 0.4097 - acc: 0.8344\n",
      "Epoch 11/100\n",
      "8000/8000 [==============================] - 4s 489us/step - loss: 0.4089 - acc: 0.8347\n",
      "Epoch 12/100\n",
      "8000/8000 [==============================] - 4s 521us/step - loss: 0.4082 - acc: 0.8335\n",
      "Epoch 13/100\n",
      "8000/8000 [==============================] - 9s 1ms/step - loss: 0.4072 - acc: 0.8334\n",
      "Epoch 14/100\n",
      "8000/8000 [==============================] - 8s 967us/step - loss: 0.4070 - acc: 0.8346\n",
      "Epoch 15/100\n",
      "8000/8000 [==============================] - 8s 984us/step - loss: 0.4065 - acc: 0.8342\n",
      "Epoch 16/100\n",
      "8000/8000 [==============================] - 4s 537us/step - loss: 0.4060 - acc: 0.8350\n",
      "Epoch 17/100\n",
      "8000/8000 [==============================] - 3s 408us/step - loss: 0.4059 - acc: 0.8362\n",
      "Epoch 18/100\n",
      "8000/8000 [==============================] - 3s 378us/step - loss: 0.4053 - acc: 0.8341\n",
      "Epoch 19/100\n",
      "8000/8000 [==============================] - 3s 406us/step - loss: 0.4051 - acc: 0.8345\n",
      "Epoch 20/100\n",
      "8000/8000 [==============================] - 3s 377us/step - loss: 0.4048 - acc: 0.8360\n",
      "Epoch 21/100\n",
      "8000/8000 [==============================] - 3s 406us/step - loss: 0.4046 - acc: 0.8339\n",
      "Epoch 22/100\n",
      "8000/8000 [==============================] - 4s 508us/step - loss: 0.4043 - acc: 0.8355\n",
      "Epoch 23/100\n",
      "8000/8000 [==============================] - 9s 1ms/step - loss: 0.4039 - acc: 0.8336\n",
      "Epoch 24/100\n",
      "8000/8000 [==============================] - 7s 863us/step - loss: 0.4036 - acc: 0.8354\n",
      "Epoch 25/100\n",
      "8000/8000 [==============================] - 4s 538us/step - loss: 0.4036 - acc: 0.8349\n",
      "Epoch 26/100\n",
      "8000/8000 [==============================] - 4s 445us/step - loss: 0.4029 - acc: 0.8347\n",
      "Epoch 27/100\n",
      "8000/8000 [==============================] - 3s 423us/step - loss: 0.4034 - acc: 0.8356\n",
      "Epoch 28/100\n",
      "8000/8000 [==============================] - 3s 426us/step - loss: 0.4030 - acc: 0.8352\n",
      "Epoch 29/100\n",
      "8000/8000 [==============================] - 4s 441us/step - loss: 0.4032 - acc: 0.8347\n",
      "Epoch 30/100\n",
      "8000/8000 [==============================] - 5s 570us/step - loss: 0.4028 - acc: 0.8350\n",
      "Epoch 31/100\n",
      "8000/8000 [==============================] - 7s 872us/step - loss: 0.4026 - acc: 0.8357\n",
      "Epoch 32/100\n",
      "8000/8000 [==============================] - 8s 959us/step - loss: 0.4026 - acc: 0.8356\n",
      "Epoch 33/100\n",
      "8000/8000 [==============================] - 8s 953us/step - loss: 0.4024 - acc: 0.8367\n",
      "Epoch 34/100\n",
      "8000/8000 [==============================] - 4s 477us/step - loss: 0.4026 - acc: 0.8361\n",
      "Epoch 35/100\n",
      "8000/8000 [==============================] - 3s 421us/step - loss: 0.4020 - acc: 0.8354\n",
      "Epoch 36/100\n",
      "8000/8000 [==============================] - 4s 442us/step - loss: 0.4023 - acc: 0.8334\n",
      "Epoch 37/100\n",
      "8000/8000 [==============================] - 4s 516us/step - loss: 0.4022 - acc: 0.8351\n",
      "Epoch 38/100\n",
      "8000/8000 [==============================] - 6s 775us/step - loss: 0.4020 - acc: 0.8365\n",
      "Epoch 39/100\n",
      "8000/8000 [==============================] - 7s 928us/step - loss: 0.4018 - acc: 0.8364\n",
      "Epoch 40/100\n",
      "8000/8000 [==============================] - 7s 826us/step - loss: 0.4022 - acc: 0.8354\n",
      "Epoch 41/100\n",
      "8000/8000 [==============================] - 4s 512us/step - loss: 0.4019 - acc: 0.8357\n",
      "Epoch 42/100\n",
      "8000/8000 [==============================] - 4s 449us/step - loss: 0.4018 - acc: 0.8350\n",
      "Epoch 43/100\n",
      "8000/8000 [==============================] - 3s 413us/step - loss: 0.4019 - acc: 0.8359\n",
      "Epoch 44/100\n",
      "8000/8000 [==============================] - 3s 402us/step - loss: 0.4014 - acc: 0.8374\n",
      "Epoch 45/100\n",
      "8000/8000 [==============================] - 3s 407us/step - loss: 0.4014 - acc: 0.8377\n",
      "Epoch 46/100\n",
      "8000/8000 [==============================] - 6s 696us/step - loss: 0.4014 - acc: 0.8376\n",
      "Epoch 47/100\n",
      "8000/8000 [==============================] - 8s 940us/step - loss: 0.4018 - acc: 0.8369\n",
      "Epoch 48/100\n",
      "8000/8000 [==============================] - 7s 844us/step - loss: 0.4014 - acc: 0.8362\n",
      "Epoch 49/100\n",
      "8000/8000 [==============================] - 7s 837us/step - loss: 0.4017 - acc: 0.8355\n",
      "Epoch 50/100\n",
      "8000/8000 [==============================] - 4s 499us/step - loss: 0.4013 - acc: 0.8366\n",
      "Epoch 51/100\n",
      "8000/8000 [==============================] - 3s 424us/step - loss: 0.4005 - acc: 0.8341\n",
      "Epoch 52/100\n",
      "8000/8000 [==============================] - 3s 413us/step - loss: 0.4010 - acc: 0.8351\n",
      "Epoch 53/100\n",
      "8000/8000 [==============================] - 3s 419us/step - loss: 0.4014 - acc: 0.8364\n",
      "Epoch 54/100\n",
      "8000/8000 [==============================] - 4s 452us/step - loss: 0.4008 - acc: 0.8374\n",
      "Epoch 55/100\n",
      "8000/8000 [==============================] - 4s 445us/step - loss: 0.4008 - acc: 0.8350\n",
      "Epoch 56/100\n",
      "8000/8000 [==============================] - 5s 581us/step - loss: 0.4013 - acc: 0.8374\n",
      "Epoch 57/100\n",
      "8000/8000 [==============================] - 7s 925us/step - loss: 0.4007 - acc: 0.8367\n",
      "Epoch 58/100\n",
      "8000/8000 [==============================] - 7s 924us/step - loss: 0.4012 - acc: 0.8367\n",
      "Epoch 59/100\n",
      "8000/8000 [==============================] - 7s 833us/step - loss: 0.4008 - acc: 0.8362\n",
      "Epoch 60/100\n",
      "8000/8000 [==============================] - 4s 506us/step - loss: 0.4008 - acc: 0.8371\n",
      "Epoch 61/100\n",
      "8000/8000 [==============================] - 4s 463us/step - loss: 0.4013 - acc: 0.8370\n",
      "Epoch 62/100\n",
      "8000/8000 [==============================] - 4s 440us/step - loss: 0.4009 - acc: 0.8351\n",
      "Epoch 63/100\n",
      "8000/8000 [==============================] - 3s 421us/step - loss: 0.4012 - acc: 0.8365\n",
      "Epoch 64/100\n",
      "8000/8000 [==============================] - 4s 453us/step - loss: 0.4005 - acc: 0.8362\n",
      "Epoch 65/100\n",
      "8000/8000 [==============================] - 4s 498us/step - loss: 0.4007 - acc: 0.8359\n",
      "Epoch 66/100\n",
      "8000/8000 [==============================] - 5s 610us/step - loss: 0.4013 - acc: 0.8365\n",
      "Epoch 67/100\n",
      "8000/8000 [==============================] - 6s 811us/step - loss: 0.4006 - acc: 0.8364\n",
      "Epoch 68/100\n",
      "8000/8000 [==============================] - 7s 836us/step - loss: 0.4008 - acc: 0.8372\n",
      "Epoch 69/100\n",
      "8000/8000 [==============================] - 6s 799us/step - loss: 0.4004 - acc: 0.8355\n",
      "Epoch 70/100\n",
      "8000/8000 [==============================] - 7s 902us/step - loss: 0.4008 - acc: 0.8362\n",
      "Epoch 71/100\n",
      "8000/8000 [==============================] - 6s 749us/step - loss: 0.4008 - acc: 0.8362\n",
      "Epoch 72/100\n",
      "8000/8000 [==============================] - 4s 489us/step - loss: 0.4006 - acc: 0.8375\n",
      "Epoch 73/100\n",
      "8000/8000 [==============================] - 3s 378us/step - loss: 0.4003 - acc: 0.8365\n",
      "Epoch 74/100\n",
      "8000/8000 [==============================] - 3s 384us/step - loss: 0.4006 - acc: 0.8372\n",
      "Epoch 75/100\n",
      "8000/8000 [==============================] - 3s 386us/step - loss: 0.4004 - acc: 0.8374\n",
      "Epoch 76/100\n",
      "8000/8000 [==============================] - 3s 419us/step - loss: 0.4005 - acc: 0.8360\n",
      "Epoch 77/100\n",
      "8000/8000 [==============================] - 3s 422us/step - loss: 0.4001 - acc: 0.8367\n",
      "Epoch 78/100\n",
      "8000/8000 [==============================] - 5s 598us/step - loss: 0.4006 - acc: 0.8361\n",
      "Epoch 79/100\n",
      "8000/8000 [==============================] - 6s 809us/step - loss: 0.4003 - acc: 0.8385\n",
      "Epoch 80/100\n",
      "8000/8000 [==============================] - 7s 825us/step - loss: 0.4006 - acc: 0.8371\n",
      "Epoch 81/100\n",
      "8000/8000 [==============================] - 7s 841us/step - loss: 0.4007 - acc: 0.8349\n",
      "Epoch 82/100\n",
      "8000/8000 [==============================] - 5s 664us/step - loss: 0.3998 - acc: 0.8356\n",
      "Epoch 83/100\n",
      "8000/8000 [==============================] - 3s 401us/step - loss: 0.4002 - acc: 0.8382\n",
      "Epoch 84/100\n",
      "8000/8000 [==============================] - 3s 394us/step - loss: 0.4005 - acc: 0.8354\n",
      "Epoch 85/100\n",
      "8000/8000 [==============================] - 3s 367us/step - loss: 0.3998 - acc: 0.8362\n",
      "Epoch 86/100\n",
      "8000/8000 [==============================] - 3s 406us/step - loss: 0.4002 - acc: 0.8376\n",
      "Epoch 87/100\n",
      "8000/8000 [==============================] - 3s 410us/step - loss: 0.4002 - acc: 0.8361\n",
      "Epoch 88/100\n",
      "8000/8000 [==============================] - 4s 506us/step - loss: 0.3998 - acc: 0.8355\n",
      "Epoch 89/100\n",
      "8000/8000 [==============================] - 8s 946us/step - loss: 0.3996 - acc: 0.8355\n",
      "Epoch 90/100\n",
      "8000/8000 [==============================] - 5s 646us/step - loss: 0.3998 - acc: 0.8364\n",
      "Epoch 91/100\n",
      "8000/8000 [==============================] - 4s 440us/step - loss: 0.3997 - acc: 0.8367\n",
      "Epoch 92/100\n",
      "8000/8000 [==============================] - 4s 442us/step - loss: 0.4003 - acc: 0.8367\n",
      "Epoch 93/100\n",
      "8000/8000 [==============================] - 3s 428us/step - loss: 0.3995 - acc: 0.8372\n",
      "Epoch 94/100\n",
      "8000/8000 [==============================] - 4s 469us/step - loss: 0.3997 - acc: 0.8370\n",
      "Epoch 95/100\n",
      "8000/8000 [==============================] - 6s 748us/step - loss: 0.3999 - acc: 0.8371\n",
      "Epoch 96/100\n",
      "8000/8000 [==============================] - 7s 931us/step - loss: 0.4000 - acc: 0.8360\n",
      "Epoch 97/100\n",
      "8000/8000 [==============================] - 7s 911us/step - loss: 0.4000 - acc: 0.8364\n",
      "Epoch 98/100\n",
      "8000/8000 [==============================] - 6s 810us/step - loss: 0.3997 - acc: 0.8357\n",
      "Epoch 99/100\n",
      "8000/8000 [==============================] - 4s 562us/step - loss: 0.3998 - acc: 0.8351\n",
      "Epoch 100/100\n",
      "8000/8000 [==============================] - 4s 449us/step - loss: 0.3998 - acc: 0.8359\n"
     ]
    },
    {
     "data": {
      "text/plain": [
       "<keras.callbacks.History at 0x7f721061efd0>"
      ]
     },
     "execution_count": 17,
     "metadata": {},
     "output_type": "execute_result"
    }
   ],
   "source": [
    "# Fitting the ANN to the Training set\n",
    "classifier.fit(X_train, y_train, batch_size = 10, epochs = 100)"
   ]
  },
  {
   "cell_type": "code",
   "execution_count": 102,
   "metadata": {},
   "outputs": [
    {
     "data": {
      "text/plain": [
       "0.0"
      ]
     },
     "execution_count": 102,
     "metadata": {},
     "output_type": "execute_result"
    }
   ],
   "source": [
    "# Part 3 - Making predictions and evaluating the model\n",
    "\n",
    "# Predicting the Test set results\n",
    "y_pred = classifier.predict(X_test)\n",
    "y_pred = (y_pred > 0.5)\n",
    "\n",
    "#prediction for test_vect\n",
    "y_pred_test = classifier.predict(test_vec)\n",
    "#y_pred_test = (y_pred_test > 0.5)\n",
    "y_pred_test[0,0]"
   ]
  },
  {
   "cell_type": "code",
   "execution_count": 19,
   "metadata": {},
   "outputs": [],
   "source": [
    "# Making the Confusion Matrix\n",
    "from sklearn.metrics import confusion_matrix\n",
    "cm = confusion_matrix(y_test, y_pred)"
   ]
  },
  {
   "cell_type": "code",
   "execution_count": 20,
   "metadata": {},
   "outputs": [
    {
     "data": {
      "text/plain": [
       "array([[1541,   54],\n",
       "       [ 257,  148]])"
      ]
     },
     "execution_count": 20,
     "metadata": {},
     "output_type": "execute_result"
    }
   ],
   "source": [
    "cm"
   ]
  },
  {
   "cell_type": "code",
   "execution_count": 21,
   "metadata": {},
   "outputs": [
    {
     "data": {
      "text/plain": [
       "89"
      ]
     },
     "execution_count": 21,
     "metadata": {},
     "output_type": "execute_result"
    }
   ],
   "source": [
    "(1541 + 257)/20"
   ]
  },
  {
   "cell_type": "code",
   "execution_count": 24,
   "metadata": {},
   "outputs": [
    {
     "data": {
      "text/plain": [
       "Index([u'RowNumber', u'CustomerId', u'Surname', u'CreditScore', u'Geography',\n",
       "       u'Gender', u'Age', u'Tenure', u'Balance', u'NumOfProducts',\n",
       "       u'HasCrCard', u'IsActiveMember', u'EstimatedSalary', u'Exited'],\n",
       "      dtype='object')"
      ]
     },
     "execution_count": 24,
     "metadata": {},
     "output_type": "execute_result"
    }
   ],
   "source": [
    "dataset.columns"
   ]
  },
  {
   "cell_type": "code",
   "execution_count": 27,
   "metadata": {},
   "outputs": [
    {
     "data": {
      "text/plain": [
       "array([[1, 15634602, 'Hargrave', 619, 'France', 'Female', 42, 2, 0.0, 1,\n",
       "        1, 1, 101348.88, 1],\n",
       "       [2, 15647311, 'Hill', 608, 'Spain', 'Female', 41, 1, 83807.86, 1,\n",
       "        0, 1, 112542.58, 0]], dtype=object)"
      ]
     },
     "execution_count": 27,
     "metadata": {},
     "output_type": "execute_result"
    }
   ],
   "source": [
    "dataset.values[0:2]"
   ]
  },
  {
   "cell_type": "code",
   "execution_count": 28,
   "metadata": {},
   "outputs": [
    {
     "data": {
      "text/plain": [
       "array([[0.0000000e+00, 0.0000000e+00, 6.1900000e+02, 0.0000000e+00,\n",
       "        4.2000000e+01, 2.0000000e+00, 0.0000000e+00, 1.0000000e+00,\n",
       "        1.0000000e+00, 1.0000000e+00, 1.0134888e+05],\n",
       "       [0.0000000e+00, 1.0000000e+00, 6.0800000e+02, 0.0000000e+00,\n",
       "        4.1000000e+01, 1.0000000e+00, 8.3807860e+04, 1.0000000e+00,\n",
       "        0.0000000e+00, 1.0000000e+00, 1.1254258e+05]])"
      ]
     },
     "execution_count": 28,
     "metadata": {},
     "output_type": "execute_result"
    }
   ],
   "source": [
    "X[0:2]"
   ]
  },
  {
   "cell_type": "code",
   "execution_count": null,
   "metadata": {},
   "outputs": [],
   "source": []
  }
 ],
 "metadata": {
  "kernelspec": {
   "display_name": "dlA2Z",
   "language": "python",
   "name": "dla2z"
  },
  "language_info": {
   "codemirror_mode": {
    "name": "ipython",
    "version": 2
   },
   "file_extension": ".py",
   "mimetype": "text/x-python",
   "name": "python",
   "nbconvert_exporter": "python",
   "pygments_lexer": "ipython2",
   "version": "2.7.15rc1"
  }
 },
 "nbformat": 4,
 "nbformat_minor": 2
}
